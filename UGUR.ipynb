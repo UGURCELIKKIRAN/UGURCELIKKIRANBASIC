{
    "cells": [
        {
            "cell_type": "code",
            "execution_count": 36,
            "metadata": {},
            "outputs": [
                {
                    "data": {
                        "text/html": "<div>\n<style scoped>\n    .dataframe tbody tr th:only-of-type {\n        vertical-align: middle;\n    }\n\n    .dataframe tbody tr th {\n        vertical-align: top;\n    }\n\n    .dataframe thead th {\n        text-align: right;\n    }\n</style>\n<table border=\"1\" class=\"dataframe\">\n  <thead>\n    <tr style=\"text-align: right;\">\n      <th></th>\n      <th>Unnamed: 0</th>\n      <th>Unnamed: 1</th>\n      <th>Unnamed: 2</th>\n      <th>Unnamed: 3</th>\n      <th>Unnamed: 4</th>\n      <th>APPENDIX - 2 RMA SUMMARY AND LIST</th>\n    </tr>\n  </thead>\n  <tbody>\n    <tr>\n      <th>0</th>\n      <td>NaN</td>\n      <td>NaN</td>\n      <td>NaN</td>\n      <td>NaN</td>\n      <td>NaN</td>\n      <td>NaN</td>\n    </tr>\n    <tr>\n      <th>1</th>\n      <td>NaN</td>\n      <td>NaN</td>\n      <td>NaN</td>\n      <td>NaN</td>\n      <td>NaN</td>\n      <td>NaN</td>\n    </tr>\n    <tr>\n      <th>2</th>\n      <td>CUSTOMERS</td>\n      <td>Sum of QUANTITY</td>\n      <td>NaN</td>\n      <td>NaN</td>\n      <td>NaN</td>\n      <td>NaN</td>\n    </tr>\n    <tr>\n      <th>3</th>\n      <td>AE</td>\n      <td>6</td>\n      <td>NaN</td>\n      <td>NaN</td>\n      <td>NaN</td>\n      <td>NaN</td>\n    </tr>\n    <tr>\n      <th>4</th>\n      <td>AKUA</td>\n      <td>1</td>\n      <td>NaN</td>\n      <td>NaN</td>\n      <td>NaN</td>\n      <td>NaN</td>\n    </tr>\n  </tbody>\n</table>\n</div>",
                        "text/plain": "  Unnamed: 0       Unnamed: 1  Unnamed: 2  Unnamed: 3  Unnamed: 4  \\\n0        NaN              NaN         NaN         NaN         NaN   \n1        NaN              NaN         NaN         NaN         NaN   \n2  CUSTOMERS  Sum of QUANTITY         NaN         NaN         NaN   \n3         AE                6         NaN         NaN         NaN   \n4       AKUA                1         NaN         NaN         NaN   \n\n   APPENDIX - 2 RMA SUMMARY AND LIST  \n0                                NaN  \n1                                NaN  \n2                                NaN  \n3                                NaN  \n4                                NaN  "
                    },
                    "execution_count": 36,
                    "metadata": {},
                    "output_type": "execute_result"
                }
            ],
            "source": "# The code was removed by Watson Studio for sharing."
        },
        {
            "cell_type": "code",
            "execution_count": 3,
            "metadata": {},
            "outputs": [
                {
                    "data": {
                        "text/html": "<div>\n<style scoped>\n    .dataframe tbody tr th:only-of-type {\n        vertical-align: middle;\n    }\n\n    .dataframe tbody tr th {\n        vertical-align: top;\n    }\n\n    .dataframe thead th {\n        text-align: right;\n    }\n</style>\n<table border=\"1\" class=\"dataframe\">\n  <thead>\n    <tr style=\"text-align: right;\">\n      <th></th>\n      <th>Artist</th>\n      <th>Album</th>\n      <th>Released</th>\n      <th>Length</th>\n      <th>Genre</th>\n      <th>Music Recording Sales (millions)</th>\n      <th>Claimed Sales (millions)</th>\n      <th>Released.1</th>\n      <th>Soundtrack</th>\n      <th>Rating</th>\n    </tr>\n  </thead>\n  <tbody>\n    <tr>\n      <th>0</th>\n      <td>Michael Jackson</td>\n      <td>Thriller</td>\n      <td>1982</td>\n      <td>0:42:19</td>\n      <td>pop, rock, R&amp;B</td>\n      <td>46.0</td>\n      <td>65</td>\n      <td>30-Nov-82</td>\n      <td>NaN</td>\n      <td>10.0</td>\n    </tr>\n    <tr>\n      <th>1</th>\n      <td>AC/DC</td>\n      <td>Back in Black</td>\n      <td>1980</td>\n      <td>0:42:11</td>\n      <td>hard rock</td>\n      <td>26.1</td>\n      <td>50</td>\n      <td>25-Jul-80</td>\n      <td>NaN</td>\n      <td>9.5</td>\n    </tr>\n    <tr>\n      <th>2</th>\n      <td>Pink Floyd</td>\n      <td>The Dark Side of the Moon</td>\n      <td>1973</td>\n      <td>0:42:49</td>\n      <td>progressive rock</td>\n      <td>24.2</td>\n      <td>45</td>\n      <td>01-Mar-73</td>\n      <td>NaN</td>\n      <td>9.0</td>\n    </tr>\n    <tr>\n      <th>3</th>\n      <td>Whitney Houston</td>\n      <td>The Bodyguard</td>\n      <td>1992</td>\n      <td>0:57:44</td>\n      <td>R&amp;B, soul, pop</td>\n      <td>27.4</td>\n      <td>44</td>\n      <td>17-Nov-92</td>\n      <td>Y</td>\n      <td>8.5</td>\n    </tr>\n    <tr>\n      <th>4</th>\n      <td>Meat Loaf</td>\n      <td>Bat Out of Hell</td>\n      <td>1977</td>\n      <td>0:46:33</td>\n      <td>hard rock, progressive rock</td>\n      <td>20.6</td>\n      <td>43</td>\n      <td>21-Oct-77</td>\n      <td>NaN</td>\n      <td>8.0</td>\n    </tr>\n  </tbody>\n</table>\n</div>",
                        "text/plain": "            Artist                      Album  Released   Length  \\\n0  Michael Jackson                   Thriller      1982  0:42:19   \n1            AC/DC              Back in Black      1980  0:42:11   \n2       Pink Floyd  The Dark Side of the Moon      1973  0:42:49   \n3  Whitney Houston              The Bodyguard      1992  0:57:44   \n4        Meat Loaf            Bat Out of Hell      1977  0:46:33   \n\n                         Genre  Music Recording Sales (millions)  \\\n0               pop, rock, R&B                              46.0   \n1                    hard rock                              26.1   \n2             progressive rock                              24.2   \n3               R&B, soul, pop                              27.4   \n4  hard rock, progressive rock                              20.6   \n\n   Claimed Sales (millions) Released.1 Soundtrack  Rating  \n0                        65  30-Nov-82        NaN    10.0  \n1                        50  25-Jul-80        NaN     9.5  \n2                        45  01-Mar-73        NaN     9.0  \n3                        44  17-Nov-92          Y     8.5  \n4                        43  21-Oct-77        NaN     8.0  "
                    },
                    "execution_count": 3,
                    "metadata": {},
                    "output_type": "execute_result"
                }
            ],
            "source": "# The code was removed by Watson Studio for sharing."
        },
        {
            "cell_type": "code",
            "execution_count": null,
            "metadata": {},
            "outputs": [],
            "source": ""
        }
    ],
    "metadata": {
        "kernelspec": {
            "display_name": "Python 3.9",
            "language": "python",
            "name": "python3"
        },
        "language_info": {
            "codemirror_mode": {
                "name": "ipython",
                "version": 3
            },
            "file_extension": ".py",
            "mimetype": "text/x-python",
            "name": "python",
            "nbconvert_exporter": "python",
            "pygments_lexer": "ipython3",
            "version": "3.9.7"
        }
    },
    "nbformat": 4,
    "nbformat_minor": 1
}